{
 "cells": [
  {
   "cell_type": "markdown",
   "metadata": {},
   "source": [
    "# Lab 12 - Data Analysis\n",
    "## DataSet: Video Game Sales - Sales data from more than 16,500 games\n",
    "### 07/08/2020 by _Leo Kukharau_"
   ]
  },
  {
   "cell_type": "code",
   "execution_count": 1,
   "metadata": {},
   "outputs": [],
   "source": [
    "import pandas as pd\n",
    "import numpy as np"
   ]
  },
  {
   "cell_type": "code",
   "execution_count": 2,
   "metadata": {},
   "outputs": [],
   "source": [
    "games_df = pd.read_csv('data_analysis/data/vgsales.csv')"
   ]
  },
  {
   "cell_type": "code",
   "execution_count": 3,
   "metadata": {},
   "outputs": [
    {
     "data": {
      "text/html": [
       "<div>\n",
       "<style scoped>\n",
       "    .dataframe tbody tr th:only-of-type {\n",
       "        vertical-align: middle;\n",
       "    }\n",
       "\n",
       "    .dataframe tbody tr th {\n",
       "        vertical-align: top;\n",
       "    }\n",
       "\n",
       "    .dataframe thead th {\n",
       "        text-align: right;\n",
       "    }\n",
       "</style>\n",
       "<table border=\"1\" class=\"dataframe\">\n",
       "  <thead>\n",
       "    <tr style=\"text-align: right;\">\n",
       "      <th></th>\n",
       "      <th>Rank</th>\n",
       "      <th>Name</th>\n",
       "      <th>Platform</th>\n",
       "      <th>Year</th>\n",
       "      <th>Genre</th>\n",
       "      <th>Publisher</th>\n",
       "      <th>NA_Sales</th>\n",
       "      <th>EU_Sales</th>\n",
       "      <th>JP_Sales</th>\n",
       "      <th>Other_Sales</th>\n",
       "      <th>Global_Sales</th>\n",
       "    </tr>\n",
       "  </thead>\n",
       "  <tbody>\n",
       "    <tr>\n",
       "      <th>0</th>\n",
       "      <td>1</td>\n",
       "      <td>Wii Sports</td>\n",
       "      <td>Wii</td>\n",
       "      <td>2006.0</td>\n",
       "      <td>Sports</td>\n",
       "      <td>Nintendo</td>\n",
       "      <td>41.49</td>\n",
       "      <td>29.02</td>\n",
       "      <td>3.77</td>\n",
       "      <td>8.46</td>\n",
       "      <td>82.74</td>\n",
       "    </tr>\n",
       "    <tr>\n",
       "      <th>1</th>\n",
       "      <td>2</td>\n",
       "      <td>Super Mario Bros.</td>\n",
       "      <td>NES</td>\n",
       "      <td>1985.0</td>\n",
       "      <td>Platform</td>\n",
       "      <td>Nintendo</td>\n",
       "      <td>29.08</td>\n",
       "      <td>3.58</td>\n",
       "      <td>6.81</td>\n",
       "      <td>0.77</td>\n",
       "      <td>40.24</td>\n",
       "    </tr>\n",
       "    <tr>\n",
       "      <th>2</th>\n",
       "      <td>3</td>\n",
       "      <td>Mario Kart Wii</td>\n",
       "      <td>Wii</td>\n",
       "      <td>2008.0</td>\n",
       "      <td>Racing</td>\n",
       "      <td>Nintendo</td>\n",
       "      <td>15.85</td>\n",
       "      <td>12.88</td>\n",
       "      <td>3.79</td>\n",
       "      <td>3.31</td>\n",
       "      <td>35.82</td>\n",
       "    </tr>\n",
       "    <tr>\n",
       "      <th>3</th>\n",
       "      <td>4</td>\n",
       "      <td>Wii Sports Resort</td>\n",
       "      <td>Wii</td>\n",
       "      <td>2009.0</td>\n",
       "      <td>Sports</td>\n",
       "      <td>Nintendo</td>\n",
       "      <td>15.75</td>\n",
       "      <td>11.01</td>\n",
       "      <td>3.28</td>\n",
       "      <td>2.96</td>\n",
       "      <td>33.00</td>\n",
       "    </tr>\n",
       "    <tr>\n",
       "      <th>4</th>\n",
       "      <td>5</td>\n",
       "      <td>Pokemon Red/Pokemon Blue</td>\n",
       "      <td>GB</td>\n",
       "      <td>1996.0</td>\n",
       "      <td>Role-Playing</td>\n",
       "      <td>Nintendo</td>\n",
       "      <td>11.27</td>\n",
       "      <td>8.89</td>\n",
       "      <td>10.22</td>\n",
       "      <td>1.00</td>\n",
       "      <td>31.37</td>\n",
       "    </tr>\n",
       "    <tr>\n",
       "      <th>...</th>\n",
       "      <td>...</td>\n",
       "      <td>...</td>\n",
       "      <td>...</td>\n",
       "      <td>...</td>\n",
       "      <td>...</td>\n",
       "      <td>...</td>\n",
       "      <td>...</td>\n",
       "      <td>...</td>\n",
       "      <td>...</td>\n",
       "      <td>...</td>\n",
       "      <td>...</td>\n",
       "    </tr>\n",
       "    <tr>\n",
       "      <th>16593</th>\n",
       "      <td>16596</td>\n",
       "      <td>Woody Woodpecker in Crazy Castle 5</td>\n",
       "      <td>GBA</td>\n",
       "      <td>2002.0</td>\n",
       "      <td>Platform</td>\n",
       "      <td>Kemco</td>\n",
       "      <td>0.01</td>\n",
       "      <td>0.00</td>\n",
       "      <td>0.00</td>\n",
       "      <td>0.00</td>\n",
       "      <td>0.01</td>\n",
       "    </tr>\n",
       "    <tr>\n",
       "      <th>16594</th>\n",
       "      <td>16597</td>\n",
       "      <td>Men in Black II: Alien Escape</td>\n",
       "      <td>GC</td>\n",
       "      <td>2003.0</td>\n",
       "      <td>Shooter</td>\n",
       "      <td>Infogrames</td>\n",
       "      <td>0.01</td>\n",
       "      <td>0.00</td>\n",
       "      <td>0.00</td>\n",
       "      <td>0.00</td>\n",
       "      <td>0.01</td>\n",
       "    </tr>\n",
       "    <tr>\n",
       "      <th>16595</th>\n",
       "      <td>16598</td>\n",
       "      <td>SCORE International Baja 1000: The Official Game</td>\n",
       "      <td>PS2</td>\n",
       "      <td>2008.0</td>\n",
       "      <td>Racing</td>\n",
       "      <td>Activision</td>\n",
       "      <td>0.00</td>\n",
       "      <td>0.00</td>\n",
       "      <td>0.00</td>\n",
       "      <td>0.00</td>\n",
       "      <td>0.01</td>\n",
       "    </tr>\n",
       "    <tr>\n",
       "      <th>16596</th>\n",
       "      <td>16599</td>\n",
       "      <td>Know How 2</td>\n",
       "      <td>DS</td>\n",
       "      <td>2010.0</td>\n",
       "      <td>Puzzle</td>\n",
       "      <td>7G//AMES</td>\n",
       "      <td>0.00</td>\n",
       "      <td>0.01</td>\n",
       "      <td>0.00</td>\n",
       "      <td>0.00</td>\n",
       "      <td>0.01</td>\n",
       "    </tr>\n",
       "    <tr>\n",
       "      <th>16597</th>\n",
       "      <td>16600</td>\n",
       "      <td>Spirits &amp; Spells</td>\n",
       "      <td>GBA</td>\n",
       "      <td>2003.0</td>\n",
       "      <td>Platform</td>\n",
       "      <td>Wanadoo</td>\n",
       "      <td>0.01</td>\n",
       "      <td>0.00</td>\n",
       "      <td>0.00</td>\n",
       "      <td>0.00</td>\n",
       "      <td>0.01</td>\n",
       "    </tr>\n",
       "  </tbody>\n",
       "</table>\n",
       "<p>16598 rows × 11 columns</p>\n",
       "</div>"
      ],
      "text/plain": [
       "        Rank                                              Name Platform  \\\n",
       "0          1                                        Wii Sports      Wii   \n",
       "1          2                                 Super Mario Bros.      NES   \n",
       "2          3                                    Mario Kart Wii      Wii   \n",
       "3          4                                 Wii Sports Resort      Wii   \n",
       "4          5                          Pokemon Red/Pokemon Blue       GB   \n",
       "...      ...                                               ...      ...   \n",
       "16593  16596                Woody Woodpecker in Crazy Castle 5      GBA   \n",
       "16594  16597                     Men in Black II: Alien Escape       GC   \n",
       "16595  16598  SCORE International Baja 1000: The Official Game      PS2   \n",
       "16596  16599                                        Know How 2       DS   \n",
       "16597  16600                                  Spirits & Spells      GBA   \n",
       "\n",
       "         Year         Genre   Publisher  NA_Sales  EU_Sales  JP_Sales  \\\n",
       "0      2006.0        Sports    Nintendo     41.49     29.02      3.77   \n",
       "1      1985.0      Platform    Nintendo     29.08      3.58      6.81   \n",
       "2      2008.0        Racing    Nintendo     15.85     12.88      3.79   \n",
       "3      2009.0        Sports    Nintendo     15.75     11.01      3.28   \n",
       "4      1996.0  Role-Playing    Nintendo     11.27      8.89     10.22   \n",
       "...       ...           ...         ...       ...       ...       ...   \n",
       "16593  2002.0      Platform       Kemco      0.01      0.00      0.00   \n",
       "16594  2003.0       Shooter  Infogrames      0.01      0.00      0.00   \n",
       "16595  2008.0        Racing  Activision      0.00      0.00      0.00   \n",
       "16596  2010.0        Puzzle    7G//AMES      0.00      0.01      0.00   \n",
       "16597  2003.0      Platform     Wanadoo      0.01      0.00      0.00   \n",
       "\n",
       "       Other_Sales  Global_Sales  \n",
       "0             8.46         82.74  \n",
       "1             0.77         40.24  \n",
       "2             3.31         35.82  \n",
       "3             2.96         33.00  \n",
       "4             1.00         31.37  \n",
       "...            ...           ...  \n",
       "16593         0.00          0.01  \n",
       "16594         0.00          0.01  \n",
       "16595         0.00          0.01  \n",
       "16596         0.00          0.01  \n",
       "16597         0.00          0.01  \n",
       "\n",
       "[16598 rows x 11 columns]"
      ]
     },
     "execution_count": 3,
     "metadata": {},
     "output_type": "execute_result"
    }
   ],
   "source": [
    "games_df"
   ]
  },
  {
   "cell_type": "markdown",
   "metadata": {},
   "source": [
    "#### Which company is the most common video game publisher?"
   ]
  },
  {
   "cell_type": "code",
   "execution_count": 4,
   "metadata": {},
   "outputs": [
    {
     "name": "stdout",
     "output_type": "stream",
     "text": [
      "The most common video publisher is Electronic Arts\n"
     ]
    }
   ],
   "source": [
    "all_publishers = games_df['Publisher'].value_counts()\n",
    "most_common_publisher = all_publishers.index[0]\n",
    "print(f'The most common video publisher is {most_common_publisher}')"
   ]
  },
  {
   "cell_type": "markdown",
   "metadata": {},
   "source": [
    "#### What’s the most common platform?"
   ]
  },
  {
   "cell_type": "code",
   "execution_count": 5,
   "metadata": {},
   "outputs": [
    {
     "name": "stdout",
     "output_type": "stream",
     "text": [
      "The most common video platform is DS\n"
     ]
    }
   ],
   "source": [
    "all_platforms = games_df['Platform'].value_counts()\n",
    "most_common_platform = all_platforms.index[0]\n",
    "print(f'The most common video platform is {most_common_platform}')"
   ]
  },
  {
   "cell_type": "markdown",
   "metadata": {},
   "source": [
    "#### What about the most common genre?"
   ]
  },
  {
   "cell_type": "code",
   "execution_count": 6,
   "metadata": {},
   "outputs": [
    {
     "name": "stdout",
     "output_type": "stream",
     "text": [
      "The most common video genre is Action\n"
     ]
    }
   ],
   "source": [
    "all_genres = games_df['Genre'].value_counts()\n",
    "most_common_genre = all_genres.index[0]\n",
    "print(f'The most common video genre is {most_common_genre}')"
   ]
  },
  {
   "cell_type": "markdown",
   "metadata": {},
   "source": [
    "#### What are the top 20 highest grossing games?"
   ]
  },
  {
   "cell_type": "code",
   "execution_count": 7,
   "metadata": {},
   "outputs": [
    {
     "name": "stdout",
     "output_type": "stream",
     "text": [
      "The top 20 grossing games:\n"
     ]
    },
    {
     "data": {
      "text/plain": [
       "Name\n",
       "Wii Sports                                      82.74\n",
       "Super Mario Bros.                               40.24\n",
       "Mario Kart Wii                                  35.82\n",
       "Wii Sports Resort                               33.00\n",
       "Pokemon Red/Pokemon Blue                        31.37\n",
       "Tetris                                          30.26\n",
       "New Super Mario Bros.                           30.01\n",
       "Wii Play                                        29.02\n",
       "New Super Mario Bros. Wii                       28.62\n",
       "Duck Hunt                                       28.31\n",
       "Nintendogs                                      24.76\n",
       "Mario Kart DS                                   23.42\n",
       "Pokemon Gold/Pokemon Silver                     23.10\n",
       "Wii Fit                                         22.72\n",
       "Wii Fit Plus                                    22.00\n",
       "Kinect Adventures!                              21.82\n",
       "Grand Theft Auto V                              21.40\n",
       "Grand Theft Auto: San Andreas                   20.81\n",
       "Super Mario World                               20.61\n",
       "Brain Age: Train Your Brain in Minutes a Day    20.22\n",
       "Name: Global_Sales, dtype: float64"
      ]
     },
     "execution_count": 7,
     "metadata": {},
     "output_type": "execute_result"
    }
   ],
   "source": [
    "sorted_games = games_df.sort_values(by='Global_Sales', ascending=False)\n",
    "sorted_games.set_index('Name', inplace=True)\n",
    "top_twenty_highest_grossing_games = sorted_games.iloc[:20, 9]\n",
    "\n",
    "print('The top 20 grossing games:')\n",
    "top_twenty_highest_grossing_games"
   ]
  },
  {
   "cell_type": "markdown",
   "metadata": {},
   "source": [
    "#### For North American video game sales, what’s the median?"
   ]
  },
  {
   "cell_type": "code",
   "execution_count": 8,
   "metadata": {},
   "outputs": [
    {
     "data": {
      "text/plain": [
       "'The median for NA video game sales is 0.08'"
      ]
     },
     "execution_count": 8,
     "metadata": {},
     "output_type": "execute_result"
    }
   ],
   "source": [
    "na_median_sales = games_df['NA_Sales'].median()\n",
    "f'The median for NA video game sales is {na_median_sales}'"
   ]
  },
  {
   "cell_type": "markdown",
   "metadata": {},
   "source": [
    "#### Provide a secondary output showing ten games surrounding the median sales output"
   ]
  },
  {
   "cell_type": "code",
   "execution_count": 9,
   "metadata": {},
   "outputs": [
    {
     "data": {
      "text/html": [
       "<div>\n",
       "<style scoped>\n",
       "    .dataframe tbody tr th:only-of-type {\n",
       "        vertical-align: middle;\n",
       "    }\n",
       "\n",
       "    .dataframe tbody tr th {\n",
       "        vertical-align: top;\n",
       "    }\n",
       "\n",
       "    .dataframe thead th {\n",
       "        text-align: right;\n",
       "    }\n",
       "</style>\n",
       "<table border=\"1\" class=\"dataframe\">\n",
       "  <thead>\n",
       "    <tr style=\"text-align: right;\">\n",
       "      <th></th>\n",
       "      <th>Name</th>\n",
       "      <th>NA_Sales</th>\n",
       "    </tr>\n",
       "  </thead>\n",
       "  <tbody>\n",
       "    <tr>\n",
       "      <th>10802</th>\n",
       "      <td>Bladestorm: The Hundred Years' War</td>\n",
       "      <td>0.08</td>\n",
       "    </tr>\n",
       "    <tr>\n",
       "      <th>9569</th>\n",
       "      <td>Batman: Arkham Knight</td>\n",
       "      <td>0.08</td>\n",
       "    </tr>\n",
       "    <tr>\n",
       "      <th>8550</th>\n",
       "      <td>Wakeboarding Unleashed Featuring Shaun Murray</td>\n",
       "      <td>0.08</td>\n",
       "    </tr>\n",
       "    <tr>\n",
       "      <th>10799</th>\n",
       "      <td>Mind Quiz</td>\n",
       "      <td>0.08</td>\n",
       "    </tr>\n",
       "    <tr>\n",
       "      <th>9197</th>\n",
       "      <td>The Walking Dead: Season Two</td>\n",
       "      <td>0.08</td>\n",
       "    </tr>\n",
       "    <tr>\n",
       "      <th>9192</th>\n",
       "      <td>Dino Crisis 3</td>\n",
       "      <td>0.08</td>\n",
       "    </tr>\n",
       "    <tr>\n",
       "      <th>10181</th>\n",
       "      <td>Smash Court Tennis 3</td>\n",
       "      <td>0.08</td>\n",
       "    </tr>\n",
       "    <tr>\n",
       "      <th>8802</th>\n",
       "      <td>Disney's The Lion King: Simba's Mighty Adventure</td>\n",
       "      <td>0.08</td>\n",
       "    </tr>\n",
       "    <tr>\n",
       "      <th>8724</th>\n",
       "      <td>Driven</td>\n",
       "      <td>0.08</td>\n",
       "    </tr>\n",
       "    <tr>\n",
       "      <th>10793</th>\n",
       "      <td>Glory Days 2</td>\n",
       "      <td>0.08</td>\n",
       "    </tr>\n",
       "  </tbody>\n",
       "</table>\n",
       "</div>"
      ],
      "text/plain": [
       "                                                   Name  NA_Sales\n",
       "10802                Bladestorm: The Hundred Years' War      0.08\n",
       "9569                              Batman: Arkham Knight      0.08\n",
       "8550      Wakeboarding Unleashed Featuring Shaun Murray      0.08\n",
       "10799                                         Mind Quiz      0.08\n",
       "9197                       The Walking Dead: Season Two      0.08\n",
       "9192                                      Dino Crisis 3      0.08\n",
       "10181                              Smash Court Tennis 3      0.08\n",
       "8802   Disney's The Lion King: Simba's Mighty Adventure      0.08\n",
       "8724                                             Driven      0.08\n",
       "10793                                      Glory Days 2      0.08"
      ]
     },
     "execution_count": 9,
     "metadata": {},
     "output_type": "execute_result"
    }
   ],
   "source": [
    "sorted_games_na_sales = games_df.sort_values(by='NA_Sales', ascending=False)\n",
    "median_idx = len(games_df) // 2\n",
    "ten_median_na_seller_names = sorted_games_na_sales.iloc[median_idx - 5 : median_idx + 5, [1, 6]]\n",
    "ten_median_na_seller_names"
   ]
  },
  {
   "cell_type": "markdown",
   "metadata": {},
   "source": [
    "#### For the top-selling game of all time, how many standard deviations above/below the mean are its sales for North America?"
   ]
  },
  {
   "cell_type": "code",
   "execution_count": 10,
   "metadata": {},
   "outputs": [
    {
     "data": {
      "text/html": [
       "<div>\n",
       "<style scoped>\n",
       "    .dataframe tbody tr th:only-of-type {\n",
       "        vertical-align: middle;\n",
       "    }\n",
       "\n",
       "    .dataframe tbody tr th {\n",
       "        vertical-align: top;\n",
       "    }\n",
       "\n",
       "    .dataframe thead th {\n",
       "        text-align: right;\n",
       "    }\n",
       "</style>\n",
       "<table border=\"1\" class=\"dataframe\">\n",
       "  <thead>\n",
       "    <tr style=\"text-align: right;\">\n",
       "      <th></th>\n",
       "      <th>Rank</th>\n",
       "      <th>Platform</th>\n",
       "      <th>Year</th>\n",
       "      <th>Genre</th>\n",
       "      <th>Publisher</th>\n",
       "      <th>NA_Sales</th>\n",
       "      <th>EU_Sales</th>\n",
       "      <th>JP_Sales</th>\n",
       "      <th>Other_Sales</th>\n",
       "      <th>Global_Sales</th>\n",
       "    </tr>\n",
       "    <tr>\n",
       "      <th>Name</th>\n",
       "      <th></th>\n",
       "      <th></th>\n",
       "      <th></th>\n",
       "      <th></th>\n",
       "      <th></th>\n",
       "      <th></th>\n",
       "      <th></th>\n",
       "      <th></th>\n",
       "      <th></th>\n",
       "      <th></th>\n",
       "    </tr>\n",
       "  </thead>\n",
       "  <tbody>\n",
       "    <tr>\n",
       "      <th>Wii Sports</th>\n",
       "      <td>1</td>\n",
       "      <td>Wii</td>\n",
       "      <td>2006.0</td>\n",
       "      <td>Sports</td>\n",
       "      <td>Nintendo</td>\n",
       "      <td>41.49</td>\n",
       "      <td>29.02</td>\n",
       "      <td>3.77</td>\n",
       "      <td>8.46</td>\n",
       "      <td>82.74</td>\n",
       "    </tr>\n",
       "  </tbody>\n",
       "</table>\n",
       "</div>"
      ],
      "text/plain": [
       "            Rank Platform    Year   Genre Publisher  NA_Sales  EU_Sales  \\\n",
       "Name                                                                      \n",
       "Wii Sports     1      Wii  2006.0  Sports  Nintendo     41.49     29.02   \n",
       "\n",
       "            JP_Sales  Other_Sales  Global_Sales  \n",
       "Name                                             \n",
       "Wii Sports      3.77         8.46         82.74  "
      ]
     },
     "execution_count": 10,
     "metadata": {},
     "output_type": "execute_result"
    }
   ],
   "source": [
    "# Top selling game:\n",
    "top_selling_game = sorted_games[:1]\n",
    "top_selling_game"
   ]
  },
  {
   "cell_type": "code",
   "execution_count": 11,
   "metadata": {},
   "outputs": [
    {
     "data": {
      "text/plain": [
       "'The top selling game is 50.48 standart deviations above the mean'"
      ]
     },
     "execution_count": 11,
     "metadata": {},
     "output_type": "execute_result"
    }
   ],
   "source": [
    "# Finding the mean for Notrh American Sales\n",
    "na_sales_mean = games_df['NA_Sales'].mean()\n",
    "\n",
    "# Standart Deviation for NA sales:\n",
    "na_sales_std = games_df['NA_Sales'].std()\n",
    "\n",
    "# How many std top selling game is above/below the mean: (top_selling_game - mean) / std\n",
    "number_of_std = (top_selling_game['NA_Sales'] - na_sales_mean) / na_sales_std\n",
    "f'The top selling game is {round(number_of_std[0], 2)} standart deviations above the mean'"
   ]
  },
  {
   "cell_type": "markdown",
   "metadata": {},
   "source": [
    "#### The Nintendo Wii seems to have outdone itself with games. How does its average number of sales compare with all of the other platforms?"
   ]
  },
  {
   "cell_type": "code",
   "execution_count": 12,
   "metadata": {},
   "outputs": [
    {
     "data": {
      "text/plain": [
       "Platform\n",
       "2600    0.729925\n",
       "3DO     0.033333\n",
       "3DS     0.486169\n",
       "DC      0.307115\n",
       "DS      0.380254\n",
       "GB      2.606633\n",
       "GBA     0.387470\n",
       "GC      0.358561\n",
       "GEN     1.050370\n",
       "GG      0.040000\n",
       "N64     0.686144\n",
       "NES     2.561939\n",
       "NG      0.120000\n",
       "PC      0.269604\n",
       "PCFX    0.030000\n",
       "PS      0.610920\n",
       "PS2     0.581046\n",
       "PS3     0.720722\n",
       "PS4     0.827679\n",
       "PSP     0.244254\n",
       "PSV     0.149952\n",
       "SAT     0.194162\n",
       "SCD     0.311667\n",
       "SNES    0.837029\n",
       "TG16    0.080000\n",
       "WS      0.236667\n",
       "Wii     0.699404\n",
       "WiiU    0.572448\n",
       "X360    0.774672\n",
       "XB      0.313422\n",
       "XOne    0.662254\n",
       "Name: Global_Sales, dtype: float64"
      ]
     },
     "execution_count": 12,
     "metadata": {},
     "output_type": "execute_result"
    }
   ],
   "source": [
    "nintendo_vs_others = games_df.groupby('Platform')['Global_Sales'].apply(np.mean).sort_index()\n",
    "nintendo_vs_others"
   ]
  },
  {
   "cell_type": "code",
   "execution_count": 13,
   "metadata": {},
   "outputs": [
    {
     "data": {
      "text/plain": [
       "[0.729925,\n",
       " 0.033333,\n",
       " 0.486169,\n",
       " 0.307115,\n",
       " 0.380254,\n",
       " 2.606633,\n",
       " 0.38747,\n",
       " 0.358561,\n",
       " 1.05037,\n",
       " 0.04,\n",
       " 0.686144,\n",
       " 2.561939,\n",
       " 0.12,\n",
       " 0.269604,\n",
       " 0.03,\n",
       " 0.61092,\n",
       " 0.581046,\n",
       " 0.720722,\n",
       " 0.827679,\n",
       " 0.244254,\n",
       " 0.149952,\n",
       " 0.194162,\n",
       " 0.311667,\n",
       " 0.837029,\n",
       " 0.08,\n",
       " 0.236667,\n",
       " 0.699404,\n",
       " 0.572448,\n",
       " 0.774672,\n",
       " 0.313422,\n",
       " 0.662254]"
      ]
     },
     "execution_count": 13,
     "metadata": {},
     "output_type": "execute_result"
    }
   ],
   "source": [
    "# Double-checking the data above\n",
    "sales_sum = games_df.groupby('Platform')['Global_Sales'].apply(sum).sort_index()\n",
    "sales_number = games_df['Platform'].value_counts().sort_index()\n",
    "\n",
    "[round(sum / sales_number[i], 6) for i, sum in enumerate(sales_sum)]"
   ]
  },
  {
   "cell_type": "markdown",
   "metadata": {},
   "source": [
    "#### What's the top sales for a game within each genre"
   ]
  },
  {
   "cell_type": "code",
   "execution_count": 14,
   "metadata": {},
   "outputs": [
    {
     "data": {
      "text/plain": [
       "Genre\n",
       "Action          21.40\n",
       "Adventure       11.18\n",
       "Fighting        13.04\n",
       "Misc            29.02\n",
       "Platform        40.24\n",
       "Puzzle          30.26\n",
       "Racing          35.82\n",
       "Role-Playing    31.37\n",
       "Shooter         28.31\n",
       "Simulation      24.76\n",
       "Sports          82.74\n",
       "Strategy         5.45\n",
       "Name: Global_Sales, dtype: float64"
      ]
     },
     "execution_count": 14,
     "metadata": {},
     "output_type": "execute_result"
    }
   ],
   "source": [
    "top_sales_by_genre = games_df.groupby('Genre')['Global_Sales'].max()\n",
    "top_sales_by_genre"
   ]
  },
  {
   "cell_type": "markdown",
   "metadata": {},
   "source": [
    "#### What's the oldest game with global sales above average"
   ]
  },
  {
   "cell_type": "code",
   "execution_count": 15,
   "metadata": {},
   "outputs": [
    {
     "data": {
      "text/html": [
       "<div>\n",
       "<style scoped>\n",
       "    .dataframe tbody tr th:only-of-type {\n",
       "        vertical-align: middle;\n",
       "    }\n",
       "\n",
       "    .dataframe tbody tr th {\n",
       "        vertical-align: top;\n",
       "    }\n",
       "\n",
       "    .dataframe thead th {\n",
       "        text-align: right;\n",
       "    }\n",
       "</style>\n",
       "<table border=\"1\" class=\"dataframe\">\n",
       "  <thead>\n",
       "    <tr style=\"text-align: right;\">\n",
       "      <th></th>\n",
       "      <th>Rank</th>\n",
       "      <th>Name</th>\n",
       "      <th>Platform</th>\n",
       "      <th>Year</th>\n",
       "      <th>Genre</th>\n",
       "      <th>Publisher</th>\n",
       "      <th>NA_Sales</th>\n",
       "      <th>EU_Sales</th>\n",
       "      <th>JP_Sales</th>\n",
       "      <th>Other_Sales</th>\n",
       "      <th>Global_Sales</th>\n",
       "    </tr>\n",
       "  </thead>\n",
       "  <tbody>\n",
       "    <tr>\n",
       "      <th>2669</th>\n",
       "      <td>2671</td>\n",
       "      <td>Boxing</td>\n",
       "      <td>2600</td>\n",
       "      <td>1980.0</td>\n",
       "      <td>Fighting</td>\n",
       "      <td>Activision</td>\n",
       "      <td>0.72</td>\n",
       "      <td>0.04</td>\n",
       "      <td>0.0</td>\n",
       "      <td>0.01</td>\n",
       "      <td>0.77</td>\n",
       "    </tr>\n",
       "  </tbody>\n",
       "</table>\n",
       "</div>"
      ],
      "text/plain": [
       "      Rank    Name Platform    Year     Genre   Publisher  NA_Sales  EU_Sales  \\\n",
       "2669  2671  Boxing     2600  1980.0  Fighting  Activision      0.72      0.04   \n",
       "\n",
       "      JP_Sales  Other_Sales  Global_Sales  \n",
       "2669       0.0         0.01          0.77  "
      ]
     },
     "execution_count": 15,
     "metadata": {},
     "output_type": "execute_result"
    }
   ],
   "source": [
    "avg_sales = games_df['Global_Sales'].mean()\n",
    "sorted_games = games_df.sort_values(by='Year')\n",
    "filt_above_avg = sorted_games['Global_Sales'] > avg_sales\n",
    "oldest_game_with_sales_above_avg = sorted_games[filt_above_avg][:1]\n",
    "oldest_game_with_sales_above_avg"
   ]
  },
  {
   "cell_type": "markdown",
   "metadata": {},
   "source": [
    "#### Which games were selling better in Europe than in the US?"
   ]
  },
  {
   "cell_type": "code",
   "execution_count": 16,
   "metadata": {},
   "outputs": [
    {
     "data": {
      "text/html": [
       "<div>\n",
       "<style scoped>\n",
       "    .dataframe tbody tr th:only-of-type {\n",
       "        vertical-align: middle;\n",
       "    }\n",
       "\n",
       "    .dataframe tbody tr th {\n",
       "        vertical-align: top;\n",
       "    }\n",
       "\n",
       "    .dataframe thead th {\n",
       "        text-align: right;\n",
       "    }\n",
       "</style>\n",
       "<table border=\"1\" class=\"dataframe\">\n",
       "  <thead>\n",
       "    <tr style=\"text-align: right;\">\n",
       "      <th></th>\n",
       "      <th>Rank</th>\n",
       "      <th>Name</th>\n",
       "      <th>Platform</th>\n",
       "      <th>Year</th>\n",
       "      <th>Genre</th>\n",
       "      <th>Publisher</th>\n",
       "      <th>NA_Sales</th>\n",
       "      <th>EU_Sales</th>\n",
       "      <th>JP_Sales</th>\n",
       "      <th>Other_Sales</th>\n",
       "      <th>Global_Sales</th>\n",
       "    </tr>\n",
       "  </thead>\n",
       "  <tbody>\n",
       "    <tr>\n",
       "      <th>10</th>\n",
       "      <td>11</td>\n",
       "      <td>Nintendogs</td>\n",
       "      <td>DS</td>\n",
       "      <td>2005.0</td>\n",
       "      <td>Simulation</td>\n",
       "      <td>Nintendo</td>\n",
       "      <td>9.07</td>\n",
       "      <td>11.00</td>\n",
       "      <td>1.93</td>\n",
       "      <td>2.75</td>\n",
       "      <td>24.76</td>\n",
       "    </tr>\n",
       "    <tr>\n",
       "      <th>16</th>\n",
       "      <td>17</td>\n",
       "      <td>Grand Theft Auto V</td>\n",
       "      <td>PS3</td>\n",
       "      <td>2013.0</td>\n",
       "      <td>Action</td>\n",
       "      <td>Take-Two Interactive</td>\n",
       "      <td>7.01</td>\n",
       "      <td>9.27</td>\n",
       "      <td>0.97</td>\n",
       "      <td>4.14</td>\n",
       "      <td>21.40</td>\n",
       "    </tr>\n",
       "    <tr>\n",
       "      <th>19</th>\n",
       "      <td>20</td>\n",
       "      <td>Brain Age: Train Your Brain in Minutes a Day</td>\n",
       "      <td>DS</td>\n",
       "      <td>2005.0</td>\n",
       "      <td>Misc</td>\n",
       "      <td>Nintendo</td>\n",
       "      <td>4.75</td>\n",
       "      <td>9.26</td>\n",
       "      <td>4.16</td>\n",
       "      <td>2.05</td>\n",
       "      <td>20.22</td>\n",
       "    </tr>\n",
       "    <tr>\n",
       "      <th>27</th>\n",
       "      <td>28</td>\n",
       "      <td>Brain Age 2: More Training in Minutes a Day</td>\n",
       "      <td>DS</td>\n",
       "      <td>2005.0</td>\n",
       "      <td>Puzzle</td>\n",
       "      <td>Nintendo</td>\n",
       "      <td>3.44</td>\n",
       "      <td>5.36</td>\n",
       "      <td>5.32</td>\n",
       "      <td>1.18</td>\n",
       "      <td>15.30</td>\n",
       "    </tr>\n",
       "    <tr>\n",
       "      <th>33</th>\n",
       "      <td>34</td>\n",
       "      <td>Call of Duty: Black Ops 3</td>\n",
       "      <td>PS4</td>\n",
       "      <td>2015.0</td>\n",
       "      <td>Shooter</td>\n",
       "      <td>Activision</td>\n",
       "      <td>5.77</td>\n",
       "      <td>5.81</td>\n",
       "      <td>0.35</td>\n",
       "      <td>2.31</td>\n",
       "      <td>14.24</td>\n",
       "    </tr>\n",
       "    <tr>\n",
       "      <th>...</th>\n",
       "      <td>...</td>\n",
       "      <td>...</td>\n",
       "      <td>...</td>\n",
       "      <td>...</td>\n",
       "      <td>...</td>\n",
       "      <td>...</td>\n",
       "      <td>...</td>\n",
       "      <td>...</td>\n",
       "      <td>...</td>\n",
       "      <td>...</td>\n",
       "      <td>...</td>\n",
       "    </tr>\n",
       "    <tr>\n",
       "      <th>16576</th>\n",
       "      <td>16579</td>\n",
       "      <td>Rugby Challenge 3</td>\n",
       "      <td>XOne</td>\n",
       "      <td>2016.0</td>\n",
       "      <td>Sports</td>\n",
       "      <td>Alternative Software</td>\n",
       "      <td>0.00</td>\n",
       "      <td>0.01</td>\n",
       "      <td>0.00</td>\n",
       "      <td>0.00</td>\n",
       "      <td>0.01</td>\n",
       "    </tr>\n",
       "    <tr>\n",
       "      <th>16577</th>\n",
       "      <td>16580</td>\n",
       "      <td>Damnation</td>\n",
       "      <td>PC</td>\n",
       "      <td>2009.0</td>\n",
       "      <td>Shooter</td>\n",
       "      <td>Codemasters</td>\n",
       "      <td>0.00</td>\n",
       "      <td>0.01</td>\n",
       "      <td>0.00</td>\n",
       "      <td>0.00</td>\n",
       "      <td>0.01</td>\n",
       "    </tr>\n",
       "    <tr>\n",
       "      <th>16581</th>\n",
       "      <td>16584</td>\n",
       "      <td>Fit &amp; Fun</td>\n",
       "      <td>Wii</td>\n",
       "      <td>2011.0</td>\n",
       "      <td>Sports</td>\n",
       "      <td>Unknown</td>\n",
       "      <td>0.00</td>\n",
       "      <td>0.01</td>\n",
       "      <td>0.00</td>\n",
       "      <td>0.00</td>\n",
       "      <td>0.01</td>\n",
       "    </tr>\n",
       "    <tr>\n",
       "      <th>16586</th>\n",
       "      <td>16589</td>\n",
       "      <td>Secret Files 2: Puritas Cordis</td>\n",
       "      <td>DS</td>\n",
       "      <td>2009.0</td>\n",
       "      <td>Adventure</td>\n",
       "      <td>Deep Silver</td>\n",
       "      <td>0.00</td>\n",
       "      <td>0.01</td>\n",
       "      <td>0.00</td>\n",
       "      <td>0.00</td>\n",
       "      <td>0.01</td>\n",
       "    </tr>\n",
       "    <tr>\n",
       "      <th>16596</th>\n",
       "      <td>16599</td>\n",
       "      <td>Know How 2</td>\n",
       "      <td>DS</td>\n",
       "      <td>2010.0</td>\n",
       "      <td>Puzzle</td>\n",
       "      <td>7G//AMES</td>\n",
       "      <td>0.00</td>\n",
       "      <td>0.01</td>\n",
       "      <td>0.00</td>\n",
       "      <td>0.00</td>\n",
       "      <td>0.01</td>\n",
       "    </tr>\n",
       "  </tbody>\n",
       "</table>\n",
       "<p>2494 rows × 11 columns</p>\n",
       "</div>"
      ],
      "text/plain": [
       "        Rank                                          Name Platform    Year  \\\n",
       "10        11                                    Nintendogs       DS  2005.0   \n",
       "16        17                            Grand Theft Auto V      PS3  2013.0   \n",
       "19        20  Brain Age: Train Your Brain in Minutes a Day       DS  2005.0   \n",
       "27        28   Brain Age 2: More Training in Minutes a Day       DS  2005.0   \n",
       "33        34                     Call of Duty: Black Ops 3      PS4  2015.0   \n",
       "...      ...                                           ...      ...     ...   \n",
       "16576  16579                             Rugby Challenge 3     XOne  2016.0   \n",
       "16577  16580                                     Damnation       PC  2009.0   \n",
       "16581  16584                                     Fit & Fun      Wii  2011.0   \n",
       "16586  16589                Secret Files 2: Puritas Cordis       DS  2009.0   \n",
       "16596  16599                                    Know How 2       DS  2010.0   \n",
       "\n",
       "            Genre             Publisher  NA_Sales  EU_Sales  JP_Sales  \\\n",
       "10     Simulation              Nintendo      9.07     11.00      1.93   \n",
       "16         Action  Take-Two Interactive      7.01      9.27      0.97   \n",
       "19           Misc              Nintendo      4.75      9.26      4.16   \n",
       "27         Puzzle              Nintendo      3.44      5.36      5.32   \n",
       "33        Shooter            Activision      5.77      5.81      0.35   \n",
       "...           ...                   ...       ...       ...       ...   \n",
       "16576      Sports  Alternative Software      0.00      0.01      0.00   \n",
       "16577     Shooter           Codemasters      0.00      0.01      0.00   \n",
       "16581      Sports               Unknown      0.00      0.01      0.00   \n",
       "16586   Adventure           Deep Silver      0.00      0.01      0.00   \n",
       "16596      Puzzle              7G//AMES      0.00      0.01      0.00   \n",
       "\n",
       "       Other_Sales  Global_Sales  \n",
       "10            2.75         24.76  \n",
       "16            4.14         21.40  \n",
       "19            2.05         20.22  \n",
       "27            1.18         15.30  \n",
       "33            2.31         14.24  \n",
       "...            ...           ...  \n",
       "16576         0.00          0.01  \n",
       "16577         0.00          0.01  \n",
       "16581         0.00          0.01  \n",
       "16586         0.00          0.01  \n",
       "16596         0.00          0.01  \n",
       "\n",
       "[2494 rows x 11 columns]"
      ]
     },
     "execution_count": 16,
     "metadata": {},
     "output_type": "execute_result"
    }
   ],
   "source": [
    "filt_better_in_europe = games_df['EU_Sales'] > games_df['NA_Sales']\n",
    "games_df[filt_better_in_europe]"
   ]
  },
  {
   "cell_type": "markdown",
   "metadata": {},
   "source": [
    "### TESTS"
   ]
  },
  {
   "cell_type": "code",
   "execution_count": 18,
   "metadata": {},
   "outputs": [
    {
     "name": "stdout",
     "output_type": "stream",
     "text": [
      "Success!!!\n"
     ]
    }
   ],
   "source": [
    "def test():\n",
    "\n",
    "    def assert_equal(actual, expected):\n",
    "        assert actual == expected, f\"Expected {expected} but got {actual}\"\n",
    "\n",
    "    assert_equal(most_common_publisher, 'Electronic Arts')\n",
    "    assert_equal(most_common_platform, 'DS')\n",
    "    assert_equal(most_common_genre, 'Action')\n",
    "    assert_equal(list(top_twenty_highest_grossing_games), [82.74, 40.24, 35.82, 33.00, 31.37, 30.26, 30.01, 29.02, 28.62, 28.31, 24.76, 23.42, 23.10, 22.72, 22.00, 21.82, 21.40, 20.81, 20.61, 20.22])\n",
    "    assert_equal(na_median_sales, 0.08)\n",
    "    assert_equal(list(ten_median_na_seller_names.Name), [\"Bladestorm: The Hundred Years' War\",\n",
    "                                             'Batman: Arkham Knight',\n",
    "                                             'Wakeboarding Unleashed Featuring Shaun Murray',\n",
    "                                             'Mind Quiz',\n",
    "                                             'The Walking Dead: Season Two',\n",
    "                                             'Dino Crisis 3',\n",
    "                                             'Smash Court Tennis 3',\n",
    "                                             \"Disney's The Lion King: Simba's Mighty Adventure\",\n",
    "                                             'Driven',\n",
    "                                             'Glory Days 2'])\n",
    "    assert_equal(round(number_of_std[0], 2), 50.48)\n",
    "    assert_equal(list(nintendo_vs_others), [0.7299248120300751,\n",
    "                                     0.03333333333333333,\n",
    "                                     0.4861689587426326,\n",
    "                                     0.30711538461538457,\n",
    "                                     0.3802542764678687,\n",
    "                                     2.6066326530612245,\n",
    "                                     0.38746958637469586,\n",
    "                                     0.35856115107913666,\n",
    "                                     1.0503703703703704,\n",
    "                                     0.04,\n",
    "                                     0.6861442006269592,\n",
    "                                     2.561938775510204,\n",
    "                                     0.12000000000000001,\n",
    "                                     0.26960416666666664,\n",
    "                                     0.03,\n",
    "                                     0.6109197324414716,\n",
    "                                     0.5810458121240166,\n",
    "                                     0.7207223476297968,\n",
    "                                     0.8276785714285715,\n",
    "                                     0.24425391591096457,\n",
    "                                     0.14995157384987898,\n",
    "                                     0.1941618497109827,\n",
    "                                     0.3116666666666667,\n",
    "                                     0.8370292887029289,\n",
    "                                     0.08,\n",
    "                                     0.23666666666666666,\n",
    "                                     0.6994037735849057,\n",
    "                                     0.5724475524475525,\n",
    "                                     0.7746719367588933,\n",
    "                                     0.31342233009708736,\n",
    "                                     0.6622535211267606])\n",
    "    assert_equal(list(top_sales_by_genre), [21.4, 11.18, 13.04, 29.02, 40.24, 30.26, 35.82, 31.37, 28.31, 24.76, 82.74, 5.45])\n",
    "    assert_equal(oldest_game_with_sales_above_avg.iloc[0].Name, 'Boxing')\n",
    "    \n",
    "    \n",
    "    print(\"Success!!!\")\n",
    "\n",
    "test()"
   ]
  },
  {
   "cell_type": "code",
   "execution_count": null,
   "metadata": {},
   "outputs": [],
   "source": []
  }
 ],
 "metadata": {
  "kernelspec": {
   "display_name": "Python 3",
   "language": "python",
   "name": "python3"
  },
  "language_info": {
   "codemirror_mode": {
    "name": "ipython",
    "version": 3
   },
   "file_extension": ".py",
   "mimetype": "text/x-python",
   "name": "python",
   "nbconvert_exporter": "python",
   "pygments_lexer": "ipython3",
   "version": "3.8.2"
  }
 },
 "nbformat": 4,
 "nbformat_minor": 4
}
